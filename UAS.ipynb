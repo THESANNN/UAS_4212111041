{
  "nbformat": 4,
  "nbformat_minor": 0,
  "metadata": {
    "colab": {
      "provenance": [],
      "authorship_tag": "ABX9TyPwAD9zTqDJcvp0IRmqBqII",
      "include_colab_link": true
    },
    "kernelspec": {
      "name": "python3",
      "display_name": "Python 3"
    },
    "language_info": {
      "name": "python"
    }
  },
  "cells": [
    {
      "cell_type": "markdown",
      "metadata": {
        "id": "view-in-github",
        "colab_type": "text"
      },
      "source": [
        "<a href=\"https://colab.research.google.com/github/THESANNN/UAS_4212111041/blob/main/UAS.ipynb\" target=\"_parent\"><img src=\"https://colab.research.google.com/assets/colab-badge.svg\" alt=\"Open In Colab\"/></a>"
      ]
    },
    {
      "cell_type": "markdown",
      "source": [
        "NAMA : HASANUL MUHAMMAD YUNUS"
      ],
      "metadata": {
        "id": "Q91cbEBYcSyb"
      }
    },
    {
      "cell_type": "markdown",
      "source": [
        "NIM : 4212111041"
      ],
      "metadata": {
        "id": "jGxQ-Y08cSon"
      }
    },
    {
      "cell_type": "markdown",
      "source": [
        "KELAS : MEKATRONIKA 5B MALAM"
      ],
      "metadata": {
        "id": "_U7A-3TTcSZG"
      }
    },
    {
      "cell_type": "code",
      "execution_count": 1,
      "metadata": {
        "colab": {
          "base_uri": "https://localhost:8080/"
        },
        "id": "YHe8HnrpcFhB",
        "outputId": "a507f8b6-6aef-4524-ffaa-c6aa89077d65"
      },
      "outputs": [
        {
          "output_type": "stream",
          "name": "stdout",
          "text": [
            "Akurasi: 96.48%\n",
            "Confusion Matrix:\n",
            "[[53  0  0  0  0  0  0  0  0  0]\n",
            " [ 0 47  2  0  0  0  0  0  1  0]\n",
            " [ 0  0 45  1  0  0  0  0  1  0]\n",
            " [ 0  0  2 47  0  1  0  0  0  4]\n",
            " [ 0  0  0  0 58  0  0  2  0  0]\n",
            " [ 0  0  0  0  0 65  1  0  0  0]\n",
            " [ 1  0  0  0  0  0 52  0  0  0]\n",
            " [ 0  0  0  0  1  0  0 54  0  0]\n",
            " [ 0  0  0  0  0  0  0  0 43  0]\n",
            " [ 0  0  0  0  0  0  0  0  2 57]]\n",
            "Precision: 96.58%\n"
          ]
        }
      ],
      "source": [
        "import numpy as np\n",
        "from sklearn import datasets\n",
        "from sklearn.model_selection import train_test_split\n",
        "from sklearn.svm import SVC\n",
        "from sklearn.metrics import accuracy_score, confusion_matrix, precision_score\n",
        "from skimage.feature import hog\n",
        "\n",
        "# Muat dataset MNIST\n",
        "digits = datasets.load_digits()\n",
        "\n",
        "# Ekstrak fitur HOG dan ratakan gambar\n",
        "hog_features = []\n",
        "for img in digits.images:\n",
        "    fd, hog_image = hog(img, orientations=8, pixels_per_cell=(2, 2), cells_per_block=(1, 1), visualize=True)\n",
        "    hog_features.append(fd)\n",
        "\n",
        "hog_features = np.array(hog_features)\n",
        "labels = digits.target\n",
        "\n",
        "# Bagi dataset menjadi data latih dan data uji\n",
        "X_train, X_test, y_train, y_test = train_test_split(hog_features, labels, test_size=0.3, random_state=42)\n",
        "\n",
        "# Latih klasifikasi Support Vector Machine (SVM)\n",
        "svm_classifier = SVC()\n",
        "svm_classifier.fit(X_train, y_train)\n",
        "\n",
        "# Prediksi\n",
        "y_pred = svm_classifier.predict(X_test)\n",
        "\n",
        "# Evaluasi klasifikasi\n",
        "akurasi = accuracy_score(y_test, y_pred)\n",
        "conf_matrix = confusion_matrix(y_test, y_pred)\n",
        "precision = precision_score(y_test, y_pred, average='weighted')\n",
        "\n",
        "print(f\"Akurasi: {akurasi*100:.2f}%\")\n",
        "print(f\"Confusion Matrix:\\n{conf_matrix}\")\n",
        "print(f\"Precision: {precision*100:.2f}%\")"
      ]
    }
  ]
}